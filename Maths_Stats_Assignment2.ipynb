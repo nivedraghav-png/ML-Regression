{
 "cells": [
  {
   "cell_type": "code",
   "execution_count": 1,
   "id": "b9a0de06-26ee-4cb5-a1c6-a5ea56348d0a",
   "metadata": {},
   "outputs": [],
   "source": [
    "import pandas as pd\n",
    "import numpy as np\n",
    "import matplotlib.pyplot as plt\n",
    "from scipy import stats"
   ]
  },
  {
   "cell_type": "code",
   "execution_count": 4,
   "id": "82c537d4-7e70-4277-a169-5b3084f650a9",
   "metadata": {},
   "outputs": [
    {
     "data": {
      "text/html": [
       "<div>\n",
       "<style scoped>\n",
       "    .dataframe tbody tr th:only-of-type {\n",
       "        vertical-align: middle;\n",
       "    }\n",
       "\n",
       "    .dataframe tbody tr th {\n",
       "        vertical-align: top;\n",
       "    }\n",
       "\n",
       "    .dataframe thead th {\n",
       "        text-align: right;\n",
       "    }\n",
       "</style>\n",
       "<table border=\"1\" class=\"dataframe\">\n",
       "  <thead>\n",
       "    <tr style=\"text-align: right;\">\n",
       "      <th></th>\n",
       "      <th>math-score</th>\n",
       "      <th>reading-score</th>\n",
       "      <th>writing-score</th>\n",
       "    </tr>\n",
       "  </thead>\n",
       "  <tbody>\n",
       "    <tr>\n",
       "      <th>0</th>\n",
       "      <td>72</td>\n",
       "      <td>72</td>\n",
       "      <td>74</td>\n",
       "    </tr>\n",
       "    <tr>\n",
       "      <th>1</th>\n",
       "      <td>69</td>\n",
       "      <td>90</td>\n",
       "      <td>88</td>\n",
       "    </tr>\n",
       "    <tr>\n",
       "      <th>2</th>\n",
       "      <td>90</td>\n",
       "      <td>95</td>\n",
       "      <td>93</td>\n",
       "    </tr>\n",
       "    <tr>\n",
       "      <th>3</th>\n",
       "      <td>47</td>\n",
       "      <td>57</td>\n",
       "      <td>44</td>\n",
       "    </tr>\n",
       "    <tr>\n",
       "      <th>4</th>\n",
       "      <td>76</td>\n",
       "      <td>78</td>\n",
       "      <td>75</td>\n",
       "    </tr>\n",
       "  </tbody>\n",
       "</table>\n",
       "</div>"
      ],
      "text/plain": [
       "   math-score  reading-score  writing-score\n",
       "0          72             72             74\n",
       "1          69             90             88\n",
       "2          90             95             93\n",
       "3          47             57             44\n",
       "4          76             78             75"
      ]
     },
     "execution_count": 4,
     "metadata": {},
     "output_type": "execute_result"
    }
   ],
   "source": [
    "Data = \"StudentPerformance.csv\"\n",
    "\n",
    "DataFlow = pd.read_csv(Data)\n",
    "DataFlow.columns = [c.strip().lower().replace(\" \", \"-\") for c in DataFlow.columns]\n",
    "num = [\"math-score\", \"reading-score\", \"writing-score\"]\n",
    "DataFlow[num].head()"
   ]
  },
  {
   "cell_type": "code",
   "execution_count": 5,
   "id": "2d44a78c-31b0-4927-987d-ded34d7b4105",
   "metadata": {},
   "outputs": [
    {
     "data": {
      "text/html": [
       "<div>\n",
       "<style scoped>\n",
       "    .dataframe tbody tr th:only-of-type {\n",
       "        vertical-align: middle;\n",
       "    }\n",
       "\n",
       "    .dataframe tbody tr th {\n",
       "        vertical-align: top;\n",
       "    }\n",
       "\n",
       "    .dataframe thead th {\n",
       "        text-align: right;\n",
       "    }\n",
       "</style>\n",
       "<table border=\"1\" class=\"dataframe\">\n",
       "  <thead>\n",
       "    <tr style=\"text-align: right;\">\n",
       "      <th></th>\n",
       "      <th>Mean</th>\n",
       "      <th>Median</th>\n",
       "      <th>Mode</th>\n",
       "      <th>Mean_minus_Median</th>\n",
       "    </tr>\n",
       "  </thead>\n",
       "  <tbody>\n",
       "    <tr>\n",
       "      <th>math-score</th>\n",
       "      <td>66.089</td>\n",
       "      <td>66.0</td>\n",
       "      <td>65</td>\n",
       "      <td>0.089</td>\n",
       "    </tr>\n",
       "    <tr>\n",
       "      <th>reading-score</th>\n",
       "      <td>69.169</td>\n",
       "      <td>70.0</td>\n",
       "      <td>72</td>\n",
       "      <td>-0.831</td>\n",
       "    </tr>\n",
       "    <tr>\n",
       "      <th>writing-score</th>\n",
       "      <td>68.054</td>\n",
       "      <td>69.0</td>\n",
       "      <td>74</td>\n",
       "      <td>-0.946</td>\n",
       "    </tr>\n",
       "  </tbody>\n",
       "</table>\n",
       "</div>"
      ],
      "text/plain": [
       "                 Mean  Median  Mode  Mean_minus_Median\n",
       "math-score     66.089    66.0    65              0.089\n",
       "reading-score  69.169    70.0    72             -0.831\n",
       "writing-score  68.054    69.0    74             -0.946"
      ]
     },
     "execution_count": 5,
     "metadata": {},
     "output_type": "execute_result"
    }
   ],
   "source": [
    "Total = pd.DataFrame({ \"Mean\" : DataFlow[num].mean(), \"Median\" : DataFlow[num].median(),\n",
    "                      \"Mode\" : [DataFlow[c].mode().iloc[0] if not DataFlow[c].mode().empty else np.nan for c in num]})\n",
    "\n",
    "Total[\"Mean_minus_Median\"] = Total[\"Mean\"] - Total[\"Median\"]\n",
    "\n",
    "Total.round(3)"
   ]
  },
  {
   "cell_type": "code",
   "execution_count": 11,
   "id": "889b0efa-c182-45db-b948-077dcf1e7ec3",
   "metadata": {},
   "outputs": [
    {
     "name": "stdout",
     "output_type": "stream",
     "text": [
      "\n",
      "[1] Mean / Median / Mode\n",
      "                 Mean  Median  Mode  Mean_minus_Median Skewness(hint)\n",
      "math-score     66.089    66.0    65              0.089    ~ Symmetric\n",
      "reading-score  69.169    70.0    72             -0.831    Left-skewed\n",
      "writing-score  68.054    69.0    74             -0.946    Left-skewed\n"
     ]
    }
   ],
   "source": [
    "def SkewHint(row):\n",
    "    if np.isclose(row[\"Mean\"], row[\"Median\"], atol=0.25): \n",
    "        return \"~ Symmetric\"\n",
    "    elif row[\"Mean\"] > row[\"Median\"]:\n",
    "        return \"Right-skewed\" \n",
    "    else:\n",
    "        return \"Left-skewed\"\n",
    "\n",
    "Total[\"Skewness(hint)\"] = Total.apply(SkewHint, axis=1)\n",
    "print(\"\\n[1] Mean / Median / Mode\")\n",
    "print(Total.round(3))"
   ]
  },
  {
   "cell_type": "code",
   "execution_count": null,
   "id": "47c23269-3bee-4388-92c8-cb3e290da37f",
   "metadata": {},
   "outputs": [],
   "source": []
  },
  {
   "cell_type": "code",
   "execution_count": 13,
   "id": "592f4a68-f99d-490c-8559-84c572bc52e4",
   "metadata": {},
   "outputs": [
    {
     "name": "stdout",
     "output_type": "stream",
     "text": [
      "\n",
      "[2] Range / Variance / Std Dev\n",
      "         Subject  Min  Max  Range  Variance  StdDev\n",
      "0     math-score    0  100    100   229.919  15.163\n",
      "1  reading-score   17  100     83   213.166  14.600\n",
      "2  writing-score   10  100     90   230.908  15.196\n"
     ]
    }
   ],
   "source": [
    "\n",
    "Columns = [\"math-score\", \"reading-score\", \"writing-score\"]\n",
    "\n",
    "Disp = pd.DataFrame({\"Min\":DataFlow[Columns].min(),\n",
    "                     \"Max\":DataFlow[Columns].max(),\n",
    "                     \"Range\":DataFlow[Columns].max()-DataFlow[Columns].min(),\n",
    "                     \"Variance\":DataFlow[Columns].var(ddof=1),\n",
    "                     \"StdDev\":DataFlow[Columns].std(ddof=1)}).rename_axis(\"Subject\").reset_index()\n",
    "print(\"\\n[2] Range / Variance / Std Dev\")\n",
    "print(Disp.round(3))\n"
   ]
  },
  {
   "cell_type": "code",
   "execution_count": 18,
   "id": "6d989c39-b312-4a1a-80c5-22c1f0f9c463",
   "metadata": {},
   "outputs": [
    {
     "name": "stdout",
     "output_type": "stream",
     "text": [
      "\n",
      "[3] Writing Skewness and Kurtosis\n",
      "   Skewness Skewness_Interpretation  Kurtosis(Pearson) Kurtosis_Interpretation\n",
      "0    -0.289             Left Skewed              2.967      =Normal peakedness\n"
     ]
    }
   ],
   "source": [
    "W = DataFlow[\"writing-score\"].to_numpy()\n",
    "skew_W = stats.skew(W, bias=False, nan_policy=\"omit\")\n",
    "kurt_W = stats.kurtosis(W, fisher=False, bias=False, nan_policy=\"omit\")\n",
    "\n",
    "def skew_text(v):\n",
    "    if abs(v)<0.1:\n",
    "        return \"~Symmetric\"\n",
    "    elif v>0:\n",
    "        return \"Right Skewed\"\n",
    "    else:\n",
    "        return \"Left Skewed\"\n",
    "def Kurt_text(v):\n",
    "    if abs(v-3)<0.2:\n",
    "        return \"=Normal peakedness\"\n",
    "    elif v>3:\n",
    "        return \"Leptokurtic(Sharper peak)\"\n",
    "    else:\n",
    "        return \"Platykurtic(flatter)\"\n",
    "\n",
    "Writing_Shape = pd.DataFrame([{ \"Skewness\": skew_W,\n",
    "                               \"Skewness_Interpretation\": skew_text(skew_W),\n",
    "                               \"Kurtosis(Pearson)\": kurt_W,\n",
    "                               \"Kurtosis_Interpretation\": Kurt_text(kurt_W)}])\n",
    "print(\"\\n[3] Writing Skewness and Kurtosis\")\n",
    "print(Writing_Shape.round(3))\n",
    "                               "
   ]
  },
  {
   "cell_type": "code",
   "execution_count": 19,
   "id": "805c3dca-760a-4265-a5fe-07830e5252f8",
   "metadata": {},
   "outputs": [
    {
     "name": "stdout",
     "output_type": "stream",
     "text": [
      "\n",
      "[4] Math Outliers using IQR\n",
      "     Q1    Q3   IQR  Lower_Fence  Upper_Fence  Outliers_Count\n",
      "0  57.0  77.0  20.0         27.0        107.0               8\n"
     ]
    }
   ],
   "source": [
    "Q1 = DataFlow[\"math-score\"].quantile(0.25)\n",
    "Q3 = DataFlow[\"math-score\"].quantile(0.75)\n",
    "IQR = Q3-Q1\n",
    "Lower = Q1-1.5*IQR\n",
    "Upper = Q3+1.5*IQR\n",
    "\n",
    "Out_Mask = (DataFlow[\"math-score\"] <Lower)| (DataFlow[\"math-score\"]> Upper)\n",
    "Out_Count = int(Out_Mask.sum())\n",
    "\n",
    "IQR_Table = pd.DataFrame([{\"Q1\":Q1, \"Q3\":Q3, \"IQR\":IQR, \"Lower_Fence\": Lower, \"Upper_Fence\": Upper,\n",
    "                           \"Outliers_Count\": Out_Count}])\n",
    "print(\"\\n[4] Math Outliers using IQR\")\n",
    "print(IQR_Table.round(3))"
   ]
  },
  {
   "cell_type": "code",
   "execution_count": 20,
   "id": "4562d238-beb7-4822-8f88-c6411d197b72",
   "metadata": {},
   "outputs": [
    {
     "name": "stdout",
     "output_type": "stream",
     "text": [
      "\n",
      "[5] Pearson Correlation Matrix\n",
      "               math-score  reading-score  writing-score\n",
      "math-score          1.000          0.818          0.803\n",
      "reading-score       0.818          1.000          0.955\n",
      "writing-score       0.803          0.955          1.000\n"
     ]
    }
   ],
   "source": [
    "Corr = DataFlow[num].corr(method=\"pearson\").round(3)\n",
    "print(\"\\n[5] Pearson Correlation Matrix\")\n",
    "print(Corr)"
   ]
  },
  {
   "cell_type": "code",
   "execution_count": 22,
   "id": "c4671f8d-5c0d-4b1d-b0d2-293b21ea8763",
   "metadata": {},
   "outputs": [
    {
     "name": "stdout",
     "output_type": "stream",
     "text": [
      "\n",
      " Strongest Correlation : reading-score ↔ writing-score = 0.955\n"
     ]
    }
   ],
   "source": [
    "Pairs = [((a,b), Corr.loc[a,b]) for i,a in enumerate(num) for j,b in enumerate(num) if j>i]\n",
    "\n",
    "Strongest = max(Pairs, key=lambda x: abs(x[1]))\n",
    "print(f\"\\n Strongest Correlation : {Strongest[0][0]} ↔ {Strongest[0][1]} = {Strongest[1]}\")"
   ]
  },
  {
   "cell_type": "code",
   "execution_count": null,
   "id": "c1df275f-0f7f-4448-9d5c-37a6639a43cb",
   "metadata": {},
   "outputs": [],
   "source": []
  }
 ],
 "metadata": {
  "kernelspec": {
   "display_name": "Python 3 (ipykernel)",
   "language": "python",
   "name": "python3"
  },
  "language_info": {
   "codemirror_mode": {
    "name": "ipython",
    "version": 3
   },
   "file_extension": ".py",
   "mimetype": "text/x-python",
   "name": "python",
   "nbconvert_exporter": "python",
   "pygments_lexer": "ipython3",
   "version": "3.13.5"
  }
 },
 "nbformat": 4,
 "nbformat_minor": 5
}
